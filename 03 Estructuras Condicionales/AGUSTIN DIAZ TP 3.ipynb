{
 "cells": [
  {
   "cell_type": "markdown",
   "metadata": {},
   "source": [
    "EJERCICIO 1\n",
    "\n",
    "Escribir un programa que solicite la edad del usuario. Si el usuario es mayor de 18 años,\n",
    "deberá mostrar un mensaje en pantalla que diga “Es mayor de edad”"
   ]
  },
  {
   "cell_type": "code",
   "execution_count": null,
   "metadata": {},
   "outputs": [],
   "source": [
    "edad=int(input(\"Escriba su edad: \"))\n",
    "\n",
    "if edad>18:\n",
    "    print(\"Usted es mayor de edad\")\n",
    "else:\n",
    "    print(\"Usted no es mayor de edad\")"
   ]
  },
  {
   "cell_type": "markdown",
   "metadata": {},
   "source": [
    "EJERCICIO 2\n",
    "\n",
    "Escribir un programa que solicite su nota al usuario. Si la nota es mayor o igual a 6, deberá\n",
    "mostrar por pantalla un mensaje que diga “Aprobado”; en caso contrario deberá mostrar el\n",
    "mensaje “Desaprobado”."
   ]
  },
  {
   "cell_type": "code",
   "execution_count": null,
   "metadata": {},
   "outputs": [],
   "source": [
    "nota=int(input(\"Escriba la nota para ver su condicion: \"))\n",
    "\n",
    "if nota>=6:\n",
    "    print(\"Usted esta aprobado\")\n",
    "else:\n",
    "    print(\"Usted esta desaprobado.\")"
   ]
  },
  {
   "cell_type": "markdown",
   "metadata": {},
   "source": [
    "EJERCICIO 3\n",
    "\n",
    "Escribir un programa que permita ingresar solo números pares. Si el usuario ingresa un\n",
    "número par, imprimir por en pantalla el mensaje \"Ha ingresado un número par\"; en caso\n",
    "contrario, imprimir por pantalla \"Por favor, ingrese un número par\""
   ]
  },
  {
   "cell_type": "code",
   "execution_count": null,
   "metadata": {},
   "outputs": [],
   "source": [
    "n=int(input(\"Escriba un numero par: \"))\n",
    "\n",
    "if n%2==0:\n",
    "    print(\"Ha ingresado un numero par.\")\n",
    "else:\n",
    "    print (\"Porfavor, ingrese un numero par.\")"
   ]
  },
  {
   "cell_type": "markdown",
   "metadata": {},
   "source": [
    "EJERCICIO 4\n",
    "\n",
    "Escribir un programa que solicite al usuario su edad e imprima por pantalla a cuál de las\n",
    "siguientes categorías pertenece:\n",
    "\n",
    "● Niño/a: menor de 12 años.\n",
    "\n",
    "● Adolescente: mayor o igual que 12 años y menor que 18 años.\n",
    "\n",
    "● Adulto/a joven: mayor o igual que 18 años y menor que 30 años.\n",
    "\n",
    "● Adulto/a: mayor o igual que 30 años."
   ]
  },
  {
   "cell_type": "code",
   "execution_count": null,
   "metadata": {},
   "outputs": [],
   "source": [
    "edad=int(input(\"Escriba su edad para ver su categoria: \"))\n",
    "\n",
    "if edad<12:\n",
    "    print (\"Usted es un/a niño/a\")\n",
    "elif 12<=edad and edad<18:\n",
    "    print(\"Usted es un/a adolescente\")\n",
    "elif 18<=edad and edad<30:\n",
    "    print(\"Usted es un/a adulto/a joven\")\n",
    "else:\n",
    "    print(\"Usted es un adulto/a\")\n"
   ]
  },
  {
   "cell_type": "markdown",
   "metadata": {},
   "source": [
    "EJERCICIO 5\n",
    "\n",
    "Escribir un programa que permita introducir contraseñas de entre 8 y 14 caracteres\n",
    "(incluyendo 8 y 14). Si el usuario ingresa una contraseña de longitud adecuada, imprimir por en\n",
    "pantalla el mensaje \"Ha ingresado una contraseña correcta\"; en caso contrario, imprimir por\n",
    "pantalla \"Por favor, ingrese una contraseña de entre 8 y 14 caracteres\". Nota: investigue el uso\n",
    "de la función len() en Python para evaluar la cantidad de elementos que tiene un iterable tal\n",
    "como una lista o un string."
   ]
  },
  {
   "cell_type": "code",
   "execution_count": null,
   "metadata": {},
   "outputs": [],
   "source": [
    "contra=input(\"ingrese una contraseña entre 8 y 14 caracteres: \")\n",
    "\n",
    "if len(contra)>=8 and len(contra)<=14:\n",
    "    print(\"Ha ingresado una contraseña correcta.\")\n",
    "else:\n",
    "    print(\"Por favor, ingrese una contraseña entre 8 y 14 caracteres.\")"
   ]
  },
  {
   "cell_type": "markdown",
   "metadata": {},
   "source": [
    "EJERCICIO 6\n",
    "\n",
    "Escribir un programa que tome la lista numeros_aleatorios, calcule su moda, su mediana y su media y las compare para determinar si hay sesgo positivo, negativo o no hay sesgo. Imprimir el resultado por pantalla."
   ]
  },
  {
   "cell_type": "code",
   "execution_count": null,
   "metadata": {},
   "outputs": [],
   "source": [
    "from statistics import mode, median, mean\n",
    "import random\n",
    "\n",
    "numeros_aleatorios=[random.randint(0,1000000) for i in range(100)]\n",
    "\n",
    "mo=mode(numeros_aleatorios)\n",
    "med=median(numeros_aleatorios)\n",
    "mea=mean(numeros_aleatorios)\n",
    "\n",
    "if mea>med and med>mo:\n",
    "    print(\"La lista tiene un sesgo positivo\")\n",
    "elif mea<med and med<mo:\n",
    "    print(\"La lista tiene un sesgo negativo\")\n",
    "elif mea==med and mea==mo:\n",
    "    print(\"La lista es una sin sesgo\")\n",
    "else:\n",
    "    print(\"No puede clasificarse\")"
   ]
  },
  {
   "cell_type": "markdown",
   "metadata": {},
   "source": [
    "EJERCICIO 7\n",
    "\n",
    "Escribir un programa que solicite una frase o palabra al usuario. Si el string ingresado\n",
    "termina con vocal, añadir un signo de exclamación al final e imprimir el string resultante por\n",
    "pantalla; en caso contrario, dejar el string tal cual lo ingresó el usuario e imprimirlo por\n",
    "pantalla."
   ]
  },
  {
   "cell_type": "code",
   "execution_count": null,
   "metadata": {},
   "outputs": [],
   "source": [
    "pal=input(\"Escriba una palabra: \")\n",
    "vocales=[\"a\",\"A\",\"e\",\"E\",\"i\",\"I\",\"o\",\"O\",\"u\",\"U\"]\n",
    "\n",
    "if pal[-1] in vocales:\n",
    "    print(f\"¡{pal}!\")\n",
    "else:\n",
    "    print(pal)"
   ]
  },
  {
   "cell_type": "markdown",
   "metadata": {},
   "source": [
    "EJERCICIO 8\n",
    "Escribir un programa que solicite al usuario que ingrese su nombre y el número 1, 2 o 3\n",
    "dependiendo de la opción que desee:\n",
    "\n",
    "1. Si quiere su nombre en mayúsculas. Por ejemplo: PEDRO.\n",
    "\n",
    "2. Si quiere su nombre en minúsculas. Por ejemplo: pedro.\n",
    "\n",
    "3. Si quiere su nombre con la primera letra mayúscula. Por ejemplo: Pedro.\n",
    "\n",
    "El programa debe transformar el nombre ingresado de acuerdo a la opción seleccionada por el\n",
    "usuario e imprimir el resultado por pantalla. Nota: investigue uso de las funciones upper(),\n",
    "lower() y title() de Python para convertir entre mayúsculas y minúsculas."
   ]
  },
  {
   "cell_type": "code",
   "execution_count": null,
   "metadata": {},
   "outputs": [],
   "source": [
    "nom=input(\"Escriba su nombre: \")\n",
    "print(\"Escriba 1 si quiere que su nombre este en mayuscula.\")\n",
    "print(\"Escriba 2 si quiere que su nombre este en minuscula.\")\n",
    "print(\"Escriba 3 si quiere que la primera letra sea mayuscula.\")\n",
    "forma=int(input(\"\"))\n",
    "\n",
    "if forma==1:\n",
    "    nom=nom.upper()\n",
    "    print(nom)\n",
    "elif forma==2:\n",
    "    nom=nom.lower()\n",
    "    print(nom)\n",
    "elif forma==3:\n",
    "    nom=nom.title()\n",
    "    print(nom)\n",
    "else:\n",
    "    print(\"Escriba una opcion valida, comience nuevamente.\")"
   ]
  },
  {
   "cell_type": "markdown",
   "metadata": {},
   "source": [
    "EJERCICIO 9\n",
    "\n",
    "Escribir un programa que pida al usuario la magnitud de un terremoto, clasifique la\n",
    "magnitud en una de las siguientes categorías según la escala de Richter e imprima el resultado\n",
    "por pantalla:\n",
    "\n",
    "● Menor que 3: \"Muy leve\" (imperceptible).\n",
    "\n",
    "● Mayor o igual que 3 y menor que 4: \"Leve\" (ligeramente perceptible).\n",
    "\n",
    "● Mayor o igual que 4 y menor que 5: \"Moderado\" (sentido por personas, pero\n",
    "generalmente no causa daños).\n",
    "\n",
    "● Mayor o igual que 5 y menor que 6: \"Fuerte\" (puede causar daños en estructuras\n",
    "débiles).\n",
    "\n",
    "● Mayor o igual que 6 y menor que 7: \"Muy Fuerte\" (puede causar daños significativos).\n",
    "\n",
    "● Mayor o igual que 7: \"Extremo\" (puede causar graves daños a gran escala)."
   ]
  },
  {
   "cell_type": "code",
   "execution_count": null,
   "metadata": {},
   "outputs": [],
   "source": [
    "mag=float(input(\"Escriba la magnitud del terremoto que desea evaluar\"))\n",
    "\n",
    "if 0<mag and mag<3:\n",
    "    print(\"Muy leve\")\n",
    "elif 3<=mag and mag<4:\n",
    "    print(\"Leve\")\n",
    "elif 4<=mag and mag<5:\n",
    "    print(\"Moderado\")\n",
    "elif 5<=mag and mag<6:\n",
    "    print(\"Fuerte\")\n",
    "elif 6<=mag and mag<7:\n",
    "    print(\"Muy fuerte\")\n",
    "elif 7<=mag:\n",
    "    print(\"Extremo\")\n",
    "elif mag<0:\n",
    "    print(\"Ingrese un numero valido\")"
   ]
  },
  {
   "cell_type": "markdown",
   "metadata": {},
   "source": [
    "EJERCICIO 10\n",
    "\n",
    "Escribir un programa que pregunte al usuario en cuál hemisferio se encuentra (N/S), qué mes\n",
    "del año es y qué día es. El programa deberá utilizar esa información para imprimir por pantalla\n",
    "si el usuario se encuentra en otoño, invierno, primavera o verano"
   ]
  },
  {
   "cell_type": "code",
   "execution_count": 8,
   "metadata": {},
   "outputs": [
    {
     "name": "stdout",
     "output_type": "stream",
     "text": [
      "es invierno\n"
     ]
    }
   ],
   "source": [
    "hemisferio=input(\"Escriba en que hemisferio se encuentra (norte/sur): \")\n",
    "mes=input(\"Indique que mes es actualmente: \")\n",
    "dia=int(input(\"Indique que dia es actualmente: \"))\n",
    "\n",
    "primer=[\"enero\",\"febrero\"]\n",
    "segundo=[\"abril\",\"mayo\"]\n",
    "tercer=[\"julio\",\"agosto\"]\n",
    "cuarto=[\"octubre\",\"noviembre\"]\n",
    "\n",
    "if hemisferio.lower()==\"norte\":\n",
    "    if (mes.lower()==\"diciembre\" and dia>=21) or (mes.lower()==\"marzo\" and dia<21) or (mes.lower() in primer):\n",
    "        print(\"es invierno\")\n",
    "    elif (mes.lower()==\"marzo\" and dia>=21) or (mes.lower()==\"junio\" and dia<21) or (mes.lower() in segundo):\n",
    "        print(\"es primavera\")\n",
    "    elif (mes.lower()==\"junio\" and dia>=21) or (mes.lower()==\"septiembre\" and dia<21) or (mes.lower() in tercer):\n",
    "        print(\"es verano\")\n",
    "    elif (mes.lower()==\"septiembre\" and dia>=21) or (mes.lower()==\"diciembre\" and dia<21) or (mes.lower() in cuarto):\n",
    "        print(\"es otoño\")\n",
    "\n"
   ]
  }
 ],
 "metadata": {
  "kernelspec": {
   "display_name": "Python 3",
   "language": "python",
   "name": "python3"
  },
  "language_info": {
   "codemirror_mode": {
    "name": "ipython",
    "version": 3
   },
   "file_extension": ".py",
   "mimetype": "text/x-python",
   "name": "python",
   "nbconvert_exporter": "python",
   "pygments_lexer": "ipython3",
   "version": "3.11.9"
  }
 },
 "nbformat": 4,
 "nbformat_minor": 2
}
