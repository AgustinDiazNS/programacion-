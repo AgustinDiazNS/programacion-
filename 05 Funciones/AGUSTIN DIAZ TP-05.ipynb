{
 "cells": [
  {
   "cell_type": "markdown",
   "id": "87887d0f",
   "metadata": {},
   "source": [
    "Crear una función llamada imprimir_hola_mundo que imprima por\n",
    "pantalla el mensaje: “Hola Mundo!”. Llamar a esta función desde el\n",
    "programa principal."
   ]
  },
  {
   "cell_type": "code",
   "execution_count": null,
   "id": "d0a53421",
   "metadata": {},
   "outputs": [],
   "source": [
    "print(imprimir_hola_mundo())"
   ]
  }
 ],
 "metadata": {
  "language_info": {
   "name": "python"
  }
 },
 "nbformat": 4,
 "nbformat_minor": 5
}
