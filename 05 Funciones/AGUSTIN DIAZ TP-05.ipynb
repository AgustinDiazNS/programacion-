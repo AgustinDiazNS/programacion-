{
 "cells": [
  {
   "cell_type": "markdown",
   "id": "87887d0f",
   "metadata": {},
   "source": [
    "1.Crear una función llamada imprimir_hola_mundo que imprima por\n",
    "pantalla el mensaje: “Hola Mundo!”. Llamar a esta función desde el\n",
    "programa principal."
   ]
  },
  {
   "cell_type": "code",
   "execution_count": null,
   "id": "def4f054",
   "metadata": {},
   "outputs": [],
   "source": [
    "import FUNUT\n",
    "FUNUT.imprimir_hola_mundo(x)"
   ]
  },
  {
   "cell_type": "markdown",
   "id": "ce8c2e1c",
   "metadata": {},
   "source": [
    "2.Crear una función llamada saludar_usuario(nombre) que reciba\n",
    "como parámetro un nombre y devuelva un saludo personalizado.\n",
    "Por ejemplo, si se llama con saludar_usuario(\"Marcos\"), deberá de-\n",
    "volver: “Hola Marcos!”. Llamar a esta función desde el programa\n",
    "principal solicitando el nombre al usuario"
   ]
  },
  {
   "cell_type": "code",
   "execution_count": 1,
   "id": "8ad44c54",
   "metadata": {},
   "outputs": [
    {
     "name": "stdout",
     "output_type": "stream",
     "text": [
      "Hola agus\n"
     ]
    }
   ],
   "source": [
    "from FUNUT import saludar_usuario\n",
    "\n",
    "nombre=input(\"escriba su nombre: \")\n",
    "\n",
    "saludar_usuario(nombre)"
   ]
  },
  {
   "cell_type": "markdown",
   "id": "eafc80e5",
   "metadata": {},
   "source": [
    "3.Crear una función llamada informacion_personal(nombre, apellido,\n",
    "edad, residencia) que reciba cuatro parámetros e imprima: “Soy\n",
    "[nombre] [apellido], tengo [edad] años y vivo en [residencia]”. Pe-\n",
    "dir los datos al usuario y llamar a esta función con los valores in-\n",
    "gresados."
   ]
  },
  {
   "cell_type": "code",
   "execution_count": null,
   "id": "cf0ffc33",
   "metadata": {},
   "outputs": [],
   "source": [
    "from FUNUT import informacion_personal\n",
    "no=input(\"Escriba su nombre: \")\n",
    "ap=input(\"Escriba su apellido: \")\n",
    "ed=input(\"Escriba su edad: \")\n",
    "res=input(\"Escriba su ciudad: \")\n",
    "\n",
    "informacion_personal(no,ap,ed,res)"
   ]
  },
  {
   "cell_type": "markdown",
   "id": "ea3c5893",
   "metadata": {},
   "source": [
    "4.Crear dos funciones: calcular_area_circulo(radio) que reciba el ra-\n",
    "dio como parámetro y devuelva el área del círculo. calcular_peri-\n",
    "metro_circulo(radio) que reciba el radio como parámetro y devuel-\n",
    "va el perímetro del círculo. Solicitar el radio al usuario y llamar am-\n",
    "bas funciones para mostrar los resultados."
   ]
  },
  {
   "cell_type": "code",
   "execution_count": null,
   "id": "9a1d9191",
   "metadata": {},
   "outputs": [],
   "source": [
    "from FUNUT import area_de_circulo, perimetro_de_circulo\n",
    "rad=int(input(\"ingrese el radio del circulo: \"))\n",
    "\n",
    "print(f\"El area del circulo con radio {rad} es {area_de_circulo(rad)}\")\n",
    "print(f\"El perimetro del circulo con radio {rad} es {perimetro_de_circulo(rad)}\")"
   ]
  },
  {
   "cell_type": "markdown",
   "id": "22267b68",
   "metadata": {},
   "source": [
    "5.Crear una función llamada segundos_a_horas(segundos) que reciba\n",
    "una cantidad de segundos como parámetro y devuelva la cantidad\n",
    "de horas correspondientes. Solicitar al usuario los segundos y mos-\n",
    "trar el resultado usando esta función"
   ]
  },
  {
   "cell_type": "code",
   "execution_count": null,
   "id": "afdc88de",
   "metadata": {},
   "outputs": [],
   "source": [
    "from FUNUT import seg_a_hs\n",
    "seg=int(input(\"Escriba los seguondos: \"))\n",
    "print(f\"Esos segundos equivalen a {seg_a_hs(seg)} horas.\")\n"
   ]
  },
  {
   "cell_type": "markdown",
   "id": "04d1256d",
   "metadata": {},
   "source": [
    "6.Crear una función llamada tabla_multiplicar(numero) que reciba un\n",
    "número como parámetro y imprima la tabla de multiplicar de ese\n",
    "número del 1 al 10. Pedir al usuario el número y llamar a la fun-\n",
    "ción."
   ]
  },
  {
   "cell_type": "code",
   "execution_count": null,
   "id": "85376211",
   "metadata": {},
   "outputs": [],
   "source": [
    "from FUNUT import tabla_mult\n",
    "\n",
    "n=int(input(\"Escriba el numero que desea ver su tabla: \"))\n",
    "\n",
    "tabla_mult(n)\n"
   ]
  },
  {
   "cell_type": "markdown",
   "id": "9cebbc29",
   "metadata": {},
   "source": [
    "7.Crear una función llamada operaciones_basicas(a, b) que reciba\n",
    "dos números como parámetros y devuelva una tupla con el resulta-\n",
    "do de sumarlos, restarlos, multiplicarlos y dividirlos. Mostrar los re-\n",
    "sultados de forma clara"
   ]
  },
  {
   "cell_type": "code",
   "execution_count": null,
   "id": "ab51f70d",
   "metadata": {},
   "outputs": [],
   "source": [
    "from FUNUT import operaciones_basicas\n",
    "x=int(input(\"Escriba el primer numero: \"))\n",
    "y=int(input(\"Escriba el segundo numero: \"))\n",
    "\n",
    "operaciones_basicas(x,y)"
   ]
  },
  {
   "cell_type": "markdown",
   "id": "cdc3d81f",
   "metadata": {},
   "source": [
    "8.Crear una función llamada calcular_imc(peso, altura) que reciba el\n",
    "peso en kilogramos y la altura en metros, y devuelva el índice de\n",
    "masa corporal (IMC). Solicitar al usuario los datos y llamar a la fun-\n",
    "ción para mostrar el resultado con dos decimales."
   ]
  },
  {
   "cell_type": "code",
   "execution_count": null,
   "id": "50af2b20",
   "metadata": {},
   "outputs": [],
   "source": [
    "from FUNUT import calcular_imc\n",
    "p=input(\"Escriba su peso(en kg): \")\n",
    "a=input(\"Escriba su altura (en mts): \")\n",
    "print(f\"Su imc es {calcular_imc(p,a)}\")\n"
   ]
  },
  {
   "cell_type": "markdown",
   "id": "d70342a3",
   "metadata": {},
   "source": [
    "9.Crear una función llamada celsius_a_fahrenheit(celsius) que reciba\n",
    "una temperatura en grados Celsius y devuelva su equivalente en\n",
    "Fahrenheit. Pedir al usuario la temperatura en Celsius y mostrar el\n",
    "resultado usando la función"
   ]
  },
  {
   "cell_type": "code",
   "execution_count": null,
   "id": "aeaf76f6",
   "metadata": {},
   "outputs": [],
   "source": [
    "from FUNUT import celsius_a_faranheit\n",
    "T=input(\"Escriba la temperatura que desea convertir (en celsius): \")\n",
    "\n",
    "print(f\"{T} grados celsius equivalen a {celsius_a_faranheit(T)} grados faranheit\")"
   ]
  },
  {
   "cell_type": "markdown",
   "id": "e86f2f24",
   "metadata": {},
   "source": [
    "10.Crear una función llamada calcular_promedio(a, b, c) que reciba\n",
    "tres números como parámetros y devuelva el promedio de ellos.\n",
    "Solicitar los números al usuario y mostrar el resultado usando esta\n",
    "función"
   ]
  },
  {
   "cell_type": "markdown",
   "id": "27fead3c",
   "metadata": {},
   "source": [
    "ACLARACION: SE QUE LA CONSIGNA PEDIA SOLO 3 NUMEROS PERO QUISE EXPERIMENTAR PARA VER SI PODIA HACER ALGO MAS ALLA, ESPERO NO HAYA PROBLEMA."
   ]
  },
  {
   "cell_type": "code",
   "execution_count": null,
   "id": "e81a33a4",
   "metadata": {},
   "outputs": [],
   "source": [
    "from FUNUT import calcular_promedio,definir_lista\n",
    "\n",
    "msj=\"Escriba los numeros que desea calcular el promedio(Escriba '.' si desea dejar de agregar): \"\n",
    "\n",
    "cjto=definir_lista(msj,\".\")\n",
    "\n",
    "print(f\"El promedio es {calcular_promedio(cjto)}\")"
   ]
  }
 ],
 "metadata": {
  "kernelspec": {
   "display_name": "Python 3",
   "language": "python",
   "name": "python3"
  },
  "language_info": {
   "codemirror_mode": {
    "name": "ipython",
    "version": 3
   },
   "file_extension": ".py",
   "mimetype": "text/x-python",
   "name": "python",
   "nbconvert_exporter": "python",
   "pygments_lexer": "ipython3",
   "version": "3.11.9"
  }
 },
 "nbformat": 4,
 "nbformat_minor": 5
}
