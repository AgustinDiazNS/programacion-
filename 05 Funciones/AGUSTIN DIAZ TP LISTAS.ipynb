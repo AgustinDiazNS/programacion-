{
 "cells": [
  {
   "cell_type": "markdown",
   "id": "48cdbb5f",
   "metadata": {},
   "source": [
    "1) Crear una lista con los números del 1 al 100 que sean múltiplos de 4. Utilizar la función\n",
    "range."
   ]
  },
  {
   "cell_type": "code",
   "execution_count": null,
   "id": "bdbfb72c",
   "metadata": {},
   "outputs": [],
   "source": [
    "a=list(range(0,101,4))\n",
    "print(a)\n"
   ]
  },
  {
   "cell_type": "markdown",
   "id": "2b01e779",
   "metadata": {},
   "source": [
    "2) Crear una lista con cinco elementos (colocar los elementos que más te gusten) y mostrar el\n",
    "penúltimo. ¡Puedes hacerlo como se muestra en los videos o bien investigar cómo funciona el\n",
    "indexing con números negativos!"
   ]
  },
  {
   "cell_type": "code",
   "execution_count": null,
   "id": "0881abc0",
   "metadata": {},
   "outputs": [],
   "source": [
    "lista=[\"1er\",\"2do\",\"3er\",\"4to\",\"5to\"]\n",
    "print(lista[-2])\n"
   ]
  },
  {
   "cell_type": "markdown",
   "id": "3eeeae6c",
   "metadata": {},
   "source": [
    "3) Crear una lista vacía, agregar tres palabras con append e imprimir la lista resultante por\n",
    "pantalla."
   ]
  },
  {
   "cell_type": "code",
   "execution_count": null,
   "id": "66ee450c",
   "metadata": {},
   "outputs": [],
   "source": [
    "lista=[]\n",
    "lista.append(\"hola\")\n",
    "print(lista)\n",
    "lista.append(2)\n",
    "print(lista)\n",
    "lista.append(3)\n",
    "print(lista)"
   ]
  },
  {
   "cell_type": "markdown",
   "id": "960d577d",
   "metadata": {},
   "source": [
    "4) Reemplazar el segundo y último valor de la lista “animales” con las palabras “loro” y “oso”,\n",
    "respectivamente. Imprimir la lista resultante por pantalla. ¡Puedes hacerlo como se muestra\n",
    "en los videos o bien investigar cómo funciona el indexing con números negativos!\n",
    "animales = [\"perro\", \"gato\", \"conejo\", \"pez\"]"
   ]
  },
  {
   "cell_type": "code",
   "execution_count": null,
   "id": "8686ee6e",
   "metadata": {},
   "outputs": [],
   "source": [
    "lista=[\"perro\",\"gato\",\"conejo\",\"pez\"]\n",
    "print(lista)\n",
    "lista[1]=\"loro\"\n",
    "lista[3]=\"oso\"\n",
    "print(lista)"
   ]
  },
  {
   "cell_type": "markdown",
   "id": "18dd556e",
   "metadata": {},
   "source": [
    "5) Analizar el siguiente programa y explicar con tus palabras qué es lo que realiza.\n"
   ]
  },
  {
   "cell_type": "code",
   "execution_count": null,
   "id": "52617b0c",
   "metadata": {},
   "outputs": [],
   "source": [
    "numeros=[8,15,3,22,7]\n",
    "numeros.remove(max(numeros))\n",
    "print(numeros)"
   ]
  },
  {
   "cell_type": "markdown",
   "id": "3aa03d3e",
   "metadata": {},
   "source": [
    "Primero se define una lista de numeros, el programa remueve de la lista el elemento mas grande segun la ordenacion de los numeros enteros(en este caso el 22) para luego imprimir la lista sin este valor."
   ]
  },
  {
   "cell_type": "markdown",
   "id": "75b13e5e",
   "metadata": {},
   "source": [
    "6) Crear una lista con números del 10 al 30 (incluído), haciendo saltos de 5 en 5 y mostrar por\n",
    "pantalla los dos primeros."
   ]
  },
  {
   "cell_type": "code",
   "execution_count": null,
   "id": "181f9e35",
   "metadata": {},
   "outputs": [],
   "source": [
    "lista=list(range(10,31,5))\n",
    "print(lista[0:2])"
   ]
  },
  {
   "cell_type": "markdown",
   "id": "c074aea5",
   "metadata": {},
   "source": [
    "7) Reemplazar los dos valores centrales (índices 1 y 2) de la lista “autos” por dos nuevos valores\n",
    "cualesquiera.\n",
    "autos = [\"sedan\", \"polo\", \"suran\", \"gol\"]"
   ]
  },
  {
   "cell_type": "code",
   "execution_count": null,
   "id": "6cc4f186",
   "metadata": {},
   "outputs": [],
   "source": [
    "autos=[\"sedan\",\"polo\",\"suran\",\"gol\"]\n",
    "print(autos)\n",
    "autos[1]=\"hola\"\n",
    "autos[2]=\"chau\"\n",
    "print(autos)"
   ]
  },
  {
   "cell_type": "markdown",
   "id": "1d080dd8",
   "metadata": {},
   "source": [
    "8) Crear una lista vacía llamada \"dobles\" y agregar el doble de 5, 10 y 15 usando append\n",
    "directamente. Imprimir la lista resultante por pantalla."
   ]
  },
  {
   "cell_type": "code",
   "execution_count": null,
   "id": "7fce9242",
   "metadata": {},
   "outputs": [],
   "source": [
    "dobles=[]\n",
    "for i in range(5,16,5):\n",
    "    dobles.append(2*i)\n",
    "print(dobles)"
   ]
  },
  {
   "cell_type": "markdown",
   "id": "27767202",
   "metadata": {},
   "source": [
    "9) Dada la lista “compras”, cuyos elementos representan los productos comprados por\n",
    "diferentes clientes:\n",
    "compras = [[\"pan\", \"leche\"], [\"arroz\", \"fideos\", \"salsa\"],\n",
    "[\"agua\"]]\n",
    "\n",
    "a) Agregar \"jugo\" a la lista del tercer cliente usando append.\n",
    "\n",
    "b) Reemplazar \"fideos\" por \"tallarines\" en la lista del segundo cliente.\n",
    "\n",
    "c) Eliminar \"pan\" de la lista del primer cliente.\n",
    "\n",
    "d) Imprimir la lista resultante por pantalla"
   ]
  },
  {
   "cell_type": "code",
   "execution_count": null,
   "id": "e928f4ce",
   "metadata": {},
   "outputs": [],
   "source": [
    "compras=[[\"pan\",\"leche\"],[\"arroz\",\"fideos\",\"salsa\"],[\"agua\"]]\n",
    "\n",
    "compras[2].append(\"jugo\")\n",
    "print(compras)\n",
    "compras[1][1]=\"tallarines\"\n",
    "print(compras)\n",
    "compras[0].remove(\"pan\")\n",
    "print(compras)\n"
   ]
  },
  {
   "cell_type": "markdown",
   "id": "ed800b60",
   "metadata": {},
   "source": [
    "10) Elaborar una lista anidada llamada “lista_anidada” que contenga los siguientes elementos:\n",
    "● Posición lista_anidada[0]: 15\n",
    "\n",
    "● Posición lista_anidada[1]: True\n",
    "\n",
    "● Posición lista_anidada[2][0]: 25.5\n",
    "\n",
    "● Posición lista_anidada[2][1]: 57.9\n",
    "\n",
    "● Posición lista_anidada[2][2]: 30.6\n",
    "\n",
    "● Posición lista_anidada[3]: False\n",
    "\n",
    "Imprimir la lista resultante por pantalla."
   ]
  },
  {
   "cell_type": "code",
   "execution_count": null,
   "id": "abc1cd8c",
   "metadata": {},
   "outputs": [],
   "source": [
    "lista_anidada=[[25.5],True,[25.5,57.9,30.6],False]\n",
    "print(lista_anidada)"
   ]
  }
 ],
 "metadata": {
  "kernelspec": {
   "display_name": "Python 3",
   "language": "python",
   "name": "python3"
  },
  "language_info": {
   "codemirror_mode": {
    "name": "ipython",
    "version": 3
   },
   "file_extension": ".py",
   "mimetype": "text/x-python",
   "name": "python",
   "nbconvert_exporter": "python",
   "pygments_lexer": "ipython3",
   "version": "3.11.9"
  }
 },
 "nbformat": 4,
 "nbformat_minor": 5
}
