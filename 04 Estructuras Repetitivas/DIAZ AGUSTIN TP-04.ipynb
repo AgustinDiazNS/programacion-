{
 "cells": [
  {
   "cell_type": "markdown",
   "metadata": {},
   "source": [
    "1) Crea un programa que imprima en pantalla todos los números enteros desde 0 hasta 100\n",
    "(incluyendo ambos extremos), en orden creciente, mostrando un número por línea."
   ]
  },
  {
   "cell_type": "code",
   "execution_count": null,
   "metadata": {},
   "outputs": [],
   "source": [
    "for x in range (0,101):\n",
    "    print (x)"
   ]
  },
  {
   "cell_type": "markdown",
   "metadata": {},
   "source": [
    "2) Desarrolla un programa que solicite al usuario un número entero y determine la cantidad de\n",
    "dígitos que contiene"
   ]
  },
  {
   "cell_type": "code",
   "execution_count": null,
   "metadata": {},
   "outputs": [],
   "source": [
    "num=int(input(\"Escriba un numero entero: \"))\n",
    "digit=0\n",
    "if num/10>=1 or num/10<=-1:\n",
    "    while num>=1 or num<=-1:\n",
    "        digit+=1\n",
    "        num=num/10\n",
    "    print(f\"tu numero tiene {digit} digitos\")\n",
    "else:\n",
    "    print(\"Tu numero tiene 1 digito.\")"
   ]
  },
  {
   "cell_type": "markdown",
   "metadata": {},
   "source": [
    "3) Escribe un programa que sume todos los números enteros comprendidos entre dos valores\n",
    "dados por el usuario, excluyendo esos dos valores."
   ]
  },
  {
   "cell_type": "code",
   "execution_count": null,
   "metadata": {},
   "outputs": [],
   "source": [
    "limit1=int(input(\"Escriba uno de los limites: \"))\n",
    "limit2= int(input(\"Escriba el otro limite: \"))\n",
    "sumatoria=0\n",
    "\n",
    "if limit1<limit2:\n",
    "    for x in range (limit1+1,limit2):\n",
    "        sumatoria+=x\n",
    "    print(f\"La suma de los numeros entre esos valores es {sumatoria}.\")\n",
    "else:\n",
    "    for x in range (limit2+1,limit1):\n",
    "        sumatoria+=x\n",
    "    print(f\"La suma de los numeros entre esos valores es {sumatoria}.\")"
   ]
  },
  {
   "cell_type": "markdown",
   "metadata": {},
   "source": [
    "4) Elabora un programa que permita al usuario ingresar números enteros y los sume en\n",
    "secuencia. El programa debe detenerse y mostrar el total acumulado cuando el usuario ingrese\n",
    "un 0."
   ]
  },
  {
   "cell_type": "code",
   "execution_count": null,
   "metadata": {},
   "outputs": [],
   "source": [
    "num=float('inf')\n",
    "suma=0\n",
    "\n",
    "while num!=0:\n",
    "    num=float(input(\"Ingrese un numero: \"))\n",
    "    suma+=num\n",
    "\n",
    "print(f\"La suma de los valores ingresados es {suma}\")"
   ]
  },
  {
   "cell_type": "markdown",
   "metadata": {},
   "source": [
    "5) Crea un juego en el que el usuario deba adivinar un número aleatorio entre 0 y 9. Al final, el\n",
    "programa debe mostrar cuántos intentos fueron necesarios para acertar el número"
   ]
  },
  {
   "cell_type": "code",
   "execution_count": null,
   "metadata": {},
   "outputs": [],
   "source": [
    "import random\n",
    "adiv=10\n",
    "cont=0\n",
    "num=random.randint(0,9)\n",
    "\n",
    "while adiv!=num:\n",
    "    cont+=1\n",
    "    adiv=int(input(\"Adivina el numero que estoy pensando: \"))\n",
    "\n",
    "print(f\"¡Bien hecho! y solo te llevo {cont} intentos\")"
   ]
  },
  {
   "cell_type": "markdown",
   "metadata": {},
   "source": [
    "6) Desarrolla un programa que imprima en pantalla todos los números pares comprendidos\n",
    "entre 0 y 100, en orden decreciente."
   ]
  },
  {
   "cell_type": "code",
   "execution_count": null,
   "metadata": {},
   "outputs": [],
   "source": [
    "for x in range (100,-1,-2):\n",
    "    print(x)"
   ]
  },
  {
   "cell_type": "markdown",
   "metadata": {},
   "source": [
    "7) Crea un programa que calcule la suma de todos los números comprendidos entre 0 y un\n",
    "número entero positivo indicado por el usuario."
   ]
  },
  {
   "cell_type": "code",
   "execution_count": null,
   "metadata": {},
   "outputs": [],
   "source": [
    "limit=int(input(\"Escriba un numero entero: \"))\n",
    "suma=0\n",
    "if limit>=0:\n",
    "    for x in range (0,limit+1):\n",
    "        suma+=x\n",
    "    print(f\"La suma de los numeros comprendidos entre 0 y {limit} es {suma}\")\n",
    "else:\n",
    "    for x in range(limit,0):\n",
    "        suma+=x\n",
    "    print(f\"La suma de los numeros comprendidos entre {limit} y 0 es {suma}\")"
   ]
  },
  {
   "cell_type": "markdown",
   "metadata": {},
   "source": [
    "8) Escribe un programa que permita al usuario ingresar 100 números enteros. Luego, el\n",
    "programa debe indicar cuántos de estos números son pares, cuántos son impares, cuántos son\n",
    "negativos y cuántos son positivos. (Nota: para probar el programa puedes usar una cantidad\n",
    "menor, pero debe estar preparado para procesar 100 números con un solo cambio)."
   ]
  },
  {
   "cell_type": "code",
   "execution_count": null,
   "metadata": {},
   "outputs": [],
   "source": [
    "par=0\n",
    "inpar=0\n",
    "neg=0\n",
    "pos=0\n",
    "\n",
    "for x in range (0,100):\n",
    "    num=int(input(\"Escriba un numero: \"))\n",
    "    if num>0 and num!=anterior:\n",
    "        pos+=1\n",
    "    elif num<0 and num!=anterior:\n",
    "        neg+=1\n",
    "    if num%2==0 and num!=anterior:\n",
    "        par+=1\n",
    "    elif num%2==1 and num!=anterior:\n",
    "        inpar+=1\n",
    "\n",
    "print(f\"Usted ingreso: \")\n",
    "print(f\"{pos} numeros positivos\")\n",
    "print(f\"{neg} numeros negativos\")\n",
    "print(f\"{par} numeros pares\")\n",
    "print(f\"{inpar} numeros inpares\")"
   ]
  },
  {
   "cell_type": "markdown",
   "metadata": {},
   "source": [
    "9) Elabora un programa que permita al usuario ingresar 100 números enteros y luego calcule la\n",
    "media de esos valores. (Nota: puedes probar el programa con una cantidad menor, pero debe\n",
    "poder procesar 100 números cambiando solo un valor)."
   ]
  },
  {
   "cell_type": "code",
   "execution_count": null,
   "metadata": {},
   "outputs": [],
   "source": [
    "suma=0\n",
    "for x in range (0,100):\n",
    "    num=int(input(\"Escriba un numero: \"))\n",
    "    suma+=num\n",
    "\n",
    "promedio=suma/5\n",
    "\n",
    "print(f\"La media de los numeros que ingresaste es: {promedio}\")"
   ]
  },
  {
   "cell_type": "markdown",
   "metadata": {},
   "source": [
    "10) Escribe un programa que invierta el orden de los dígitos de un número ingresado por el\n",
    "usuario. Ejemplo: si el usuario ingresa 547, el programa debe mostrar 745."
   ]
  },
  {
   "cell_type": "code",
   "execution_count": 102,
   "metadata": {},
   "outputs": [
    {
     "name": "stdout",
     "output_type": "stream",
     "text": [
      "El numero es 502.0\n"
     ]
    }
   ],
   "source": [
    "num=int(input(\"Ingrese un numero: \"))\n",
    "pot=0\n",
    "numfinal=0\n",
    "digit=0\n",
    "keep=0\n",
    "\n",
    "if num<0:\n",
    "    keep=num\n",
    "    num=(-1)*num\n",
    "\n",
    "\n",
    "if num/10>=1:\n",
    "    while num/10>=1:\n",
    "        digit=num%10\n",
    "        numfinal+=digit/(10**pot)\n",
    "        num=(num-(num%10))/10\n",
    "        pot+=1\n",
    "    numfinal=numfinal*(10**pot)+num\n",
    "    if keep<0:\n",
    "        print(f\"El numero es {(-1)*numfinal}\")\n",
    "    else:\n",
    "        print(f\"El numero es {numfinal}\")\n",
    "else:\n",
    "    if keep<0:\n",
    "        print(f\"El numero es {(-1)*num}\")\n",
    "    else:\n",
    "        print(f\"El numero es {num}\")"
   ]
  },
  {
   "cell_type": "code",
   "execution_count": null,
   "metadata": {},
   "outputs": [],
   "source": []
  }
 ],
 "metadata": {
  "kernelspec": {
   "display_name": "Python 3",
   "language": "python",
   "name": "python3"
  },
  "language_info": {
   "codemirror_mode": {
    "name": "ipython",
    "version": 3
   },
   "file_extension": ".py",
   "mimetype": "text/x-python",
   "name": "python",
   "nbconvert_exporter": "python",
   "pygments_lexer": "ipython3",
   "version": "3.11.9"
  }
 },
 "nbformat": 4,
 "nbformat_minor": 2
}
